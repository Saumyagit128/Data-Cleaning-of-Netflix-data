{
 "cells": [
  {
   "cell_type": "markdown",
   "id": "dfff30f6-ae67-4a1c-a6c3-0a4df64052ab",
   "metadata": {},
   "source": [
    "# <font color = 'red'> Netflix Movies and TV shows <font>"
   ]
  },
  {
   "cell_type": "markdown",
   "id": "99b04fd2-4d7b-4625-9f26-e9f9e81d8f8c",
   "metadata": {},
   "source": [
    "## Importing libraries"
   ]
  },
  {
   "cell_type": "code",
   "execution_count": 3,
   "id": "45984a08-5bb8-4741-a893-18a3658c5610",
   "metadata": {},
   "outputs": [],
   "source": [
    "import pandas as pd\n",
    "import numpy as np\n",
    "import matplotlib.pyplot as plt\n",
    "import seaborn as sns"
   ]
  },
  {
   "cell_type": "markdown",
   "id": "77d54b41-a578-4bdf-8ef1-116580ca1402",
   "metadata": {},
   "source": [
    "## Loading the dataset"
   ]
  },
  {
   "cell_type": "code",
   "execution_count": 5,
   "id": "402efdec-94d1-49da-8aa3-9590f90c3c72",
   "metadata": {},
   "outputs": [],
   "source": [
    "df = pd.read_csv(r\"C:\\Users\\Admin\\Downloads\\Netflix_movies_and_tv_shows_clustering.csv\\Netflix_movies_and_tv_shows_clustering.csv\")"
   ]
  },
  {
   "cell_type": "code",
   "execution_count": 6,
   "id": "05a8d61c-18f5-4fcc-a4ae-51bd27004914",
   "metadata": {},
   "outputs": [
    {
     "data": {
      "text/html": [
       "<div>\n",
       "<style scoped>\n",
       "    .dataframe tbody tr th:only-of-type {\n",
       "        vertical-align: middle;\n",
       "    }\n",
       "\n",
       "    .dataframe tbody tr th {\n",
       "        vertical-align: top;\n",
       "    }\n",
       "\n",
       "    .dataframe thead th {\n",
       "        text-align: right;\n",
       "    }\n",
       "</style>\n",
       "<table border=\"1\" class=\"dataframe\">\n",
       "  <thead>\n",
       "    <tr style=\"text-align: right;\">\n",
       "      <th></th>\n",
       "      <th>show_id</th>\n",
       "      <th>type</th>\n",
       "      <th>title</th>\n",
       "      <th>director</th>\n",
       "      <th>cast</th>\n",
       "      <th>country</th>\n",
       "      <th>date_added</th>\n",
       "      <th>release_year</th>\n",
       "      <th>rating</th>\n",
       "      <th>duration</th>\n",
       "      <th>listed_in</th>\n",
       "      <th>description</th>\n",
       "    </tr>\n",
       "  </thead>\n",
       "  <tbody>\n",
       "    <tr>\n",
       "      <th>0</th>\n",
       "      <td>s1</td>\n",
       "      <td>TV Show</td>\n",
       "      <td>3%</td>\n",
       "      <td>NaN</td>\n",
       "      <td>João Miguel, Bianca Comparato, Michel Gomes, R...</td>\n",
       "      <td>Brazil</td>\n",
       "      <td>August 14, 2020</td>\n",
       "      <td>2020</td>\n",
       "      <td>TV-MA</td>\n",
       "      <td>4 Seasons</td>\n",
       "      <td>International TV Shows, TV Dramas, TV Sci-Fi &amp;...</td>\n",
       "      <td>In a future where the elite inhabit an island ...</td>\n",
       "    </tr>\n",
       "    <tr>\n",
       "      <th>1</th>\n",
       "      <td>s2</td>\n",
       "      <td>Movie</td>\n",
       "      <td>7:19</td>\n",
       "      <td>Jorge Michel Grau</td>\n",
       "      <td>Demián Bichir, Héctor Bonilla, Oscar Serrano, ...</td>\n",
       "      <td>Mexico</td>\n",
       "      <td>December 23, 2016</td>\n",
       "      <td>2016</td>\n",
       "      <td>TV-MA</td>\n",
       "      <td>93 min</td>\n",
       "      <td>Dramas, International Movies</td>\n",
       "      <td>After a devastating earthquake hits Mexico Cit...</td>\n",
       "    </tr>\n",
       "    <tr>\n",
       "      <th>2</th>\n",
       "      <td>s3</td>\n",
       "      <td>Movie</td>\n",
       "      <td>23:59</td>\n",
       "      <td>Gilbert Chan</td>\n",
       "      <td>Tedd Chan, Stella Chung, Henley Hii, Lawrence ...</td>\n",
       "      <td>Singapore</td>\n",
       "      <td>December 20, 2018</td>\n",
       "      <td>2011</td>\n",
       "      <td>R</td>\n",
       "      <td>78 min</td>\n",
       "      <td>Horror Movies, International Movies</td>\n",
       "      <td>When an army recruit is found dead, his fellow...</td>\n",
       "    </tr>\n",
       "    <tr>\n",
       "      <th>3</th>\n",
       "      <td>s4</td>\n",
       "      <td>Movie</td>\n",
       "      <td>9</td>\n",
       "      <td>Shane Acker</td>\n",
       "      <td>Elijah Wood, John C. Reilly, Jennifer Connelly...</td>\n",
       "      <td>United States</td>\n",
       "      <td>November 16, 2017</td>\n",
       "      <td>2009</td>\n",
       "      <td>PG-13</td>\n",
       "      <td>80 min</td>\n",
       "      <td>Action &amp; Adventure, Independent Movies, Sci-Fi...</td>\n",
       "      <td>In a postapocalyptic world, rag-doll robots hi...</td>\n",
       "    </tr>\n",
       "    <tr>\n",
       "      <th>4</th>\n",
       "      <td>s5</td>\n",
       "      <td>Movie</td>\n",
       "      <td>21</td>\n",
       "      <td>Robert Luketic</td>\n",
       "      <td>Jim Sturgess, Kevin Spacey, Kate Bosworth, Aar...</td>\n",
       "      <td>United States</td>\n",
       "      <td>January 1, 2020</td>\n",
       "      <td>2008</td>\n",
       "      <td>PG-13</td>\n",
       "      <td>123 min</td>\n",
       "      <td>Dramas</td>\n",
       "      <td>A brilliant group of students become card-coun...</td>\n",
       "    </tr>\n",
       "  </tbody>\n",
       "</table>\n",
       "</div>"
      ],
      "text/plain": [
       "  show_id     type  title           director  \\\n",
       "0      s1  TV Show     3%                NaN   \n",
       "1      s2    Movie   7:19  Jorge Michel Grau   \n",
       "2      s3    Movie  23:59       Gilbert Chan   \n",
       "3      s4    Movie      9        Shane Acker   \n",
       "4      s5    Movie     21     Robert Luketic   \n",
       "\n",
       "                                                cast        country  \\\n",
       "0  João Miguel, Bianca Comparato, Michel Gomes, R...         Brazil   \n",
       "1  Demián Bichir, Héctor Bonilla, Oscar Serrano, ...         Mexico   \n",
       "2  Tedd Chan, Stella Chung, Henley Hii, Lawrence ...      Singapore   \n",
       "3  Elijah Wood, John C. Reilly, Jennifer Connelly...  United States   \n",
       "4  Jim Sturgess, Kevin Spacey, Kate Bosworth, Aar...  United States   \n",
       "\n",
       "          date_added  release_year rating   duration  \\\n",
       "0    August 14, 2020          2020  TV-MA  4 Seasons   \n",
       "1  December 23, 2016          2016  TV-MA     93 min   \n",
       "2  December 20, 2018          2011      R     78 min   \n",
       "3  November 16, 2017          2009  PG-13     80 min   \n",
       "4    January 1, 2020          2008  PG-13    123 min   \n",
       "\n",
       "                                           listed_in  \\\n",
       "0  International TV Shows, TV Dramas, TV Sci-Fi &...   \n",
       "1                       Dramas, International Movies   \n",
       "2                Horror Movies, International Movies   \n",
       "3  Action & Adventure, Independent Movies, Sci-Fi...   \n",
       "4                                             Dramas   \n",
       "\n",
       "                                         description  \n",
       "0  In a future where the elite inhabit an island ...  \n",
       "1  After a devastating earthquake hits Mexico Cit...  \n",
       "2  When an army recruit is found dead, his fellow...  \n",
       "3  In a postapocalyptic world, rag-doll robots hi...  \n",
       "4  A brilliant group of students become card-coun...  "
      ]
     },
     "execution_count": 6,
     "metadata": {},
     "output_type": "execute_result"
    }
   ],
   "source": [
    "df.head()"
   ]
  },
  {
   "cell_type": "markdown",
   "id": "96256730-b74e-414c-9e3c-00debb5b0bfb",
   "metadata": {},
   "source": [
    "## Understanding the data"
   ]
  },
  {
   "cell_type": "code",
   "execution_count": 8,
   "id": "daf2d955-addf-4ef4-bf50-cec68506b934",
   "metadata": {},
   "outputs": [
    {
     "data": {
      "text/plain": [
       "(7787, 12)"
      ]
     },
     "execution_count": 8,
     "metadata": {},
     "output_type": "execute_result"
    }
   ],
   "source": [
    "#dimension of data\n",
    "df.shape"
   ]
  },
  {
   "cell_type": "markdown",
   "id": "2b1e3277-a4f2-4d7d-9f23-998cf21714f4",
   "metadata": {},
   "source": [
    "**The dataset contains 7787 records and 12 attributes.**"
   ]
  },
  {
   "cell_type": "code",
   "execution_count": 10,
   "id": "fd1da8c0-0c6d-4ff0-a15d-11960f26cbd6",
   "metadata": {},
   "outputs": [
    {
     "data": {
      "text/plain": [
       "show_id         7787\n",
       "type               2\n",
       "title           7787\n",
       "director        4049\n",
       "cast            6831\n",
       "country          681\n",
       "date_added      1565\n",
       "release_year      73\n",
       "rating            14\n",
       "duration         216\n",
       "listed_in        492\n",
       "description     7769\n",
       "dtype: int64"
      ]
     },
     "execution_count": 10,
     "metadata": {},
     "output_type": "execute_result"
    }
   ],
   "source": [
    "#unique values in each  column\n",
    "df.nunique()"
   ]
  },
  {
   "cell_type": "markdown",
   "id": "76a014e2-5808-4794-85d4-908fc81610e7",
   "metadata": {},
   "source": [
    "The attribute show_id is unique i.e every tv show and movie has a **unique show_id**"
   ]
  },
  {
   "cell_type": "code",
   "execution_count": 12,
   "id": "3226fda5-b603-4e7f-a474-f47d0c536434",
   "metadata": {},
   "outputs": [
    {
     "name": "stdout",
     "output_type": "stream",
     "text": [
      "<class 'pandas.core.frame.DataFrame'>\n",
      "RangeIndex: 7787 entries, 0 to 7786\n",
      "Data columns (total 12 columns):\n",
      " #   Column        Non-Null Count  Dtype \n",
      "---  ------        --------------  ----- \n",
      " 0   show_id       7787 non-null   object\n",
      " 1   type          7787 non-null   object\n",
      " 2   title         7787 non-null   object\n",
      " 3   director      5398 non-null   object\n",
      " 4   cast          7069 non-null   object\n",
      " 5   country       7280 non-null   object\n",
      " 6   date_added    7777 non-null   object\n",
      " 7   release_year  7787 non-null   int64 \n",
      " 8   rating        7780 non-null   object\n",
      " 9   duration      7787 non-null   object\n",
      " 10  listed_in     7787 non-null   object\n",
      " 11  description   7787 non-null   object\n",
      "dtypes: int64(1), object(11)\n",
      "memory usage: 730.2+ KB\n"
     ]
    }
   ],
   "source": [
    "#checking the datatype\n",
    "df.info()"
   ]
  },
  {
   "cell_type": "markdown",
   "id": "b098037e-cbff-4cf3-b66b-1bc276d8e6c4",
   "metadata": {},
   "source": [
    "## **Data Cleaning**"
   ]
  },
  {
   "cell_type": "code",
   "execution_count": 14,
   "id": "9b266f90-796c-4d87-a91a-4bd13712557a",
   "metadata": {},
   "outputs": [
    {
     "data": {
      "text/plain": [
       "0"
      ]
     },
     "execution_count": 14,
     "metadata": {},
     "output_type": "execute_result"
    }
   ],
   "source": [
    "# Checking for duplicate records\n",
    "df.duplicated().sum()"
   ]
  },
  {
   "cell_type": "markdown",
   "id": "498a5d1b-805b-4efa-983e-25ecf0c71a05",
   "metadata": {},
   "source": [
    "There are **no duplicate values**"
   ]
  },
  {
   "cell_type": "markdown",
   "id": "8f870b6b-6f16-45df-8ba7-7b64c081c7e5",
   "metadata": {},
   "source": [
    "### Handling Null values"
   ]
  },
  {
   "cell_type": "code",
   "execution_count": 17,
   "id": "19c6ca99-22e7-4346-9290-26c5afbfd2ff",
   "metadata": {},
   "outputs": [
    {
     "data": {
      "text/plain": [
       "<Axes: >"
      ]
     },
     "execution_count": 17,
     "metadata": {},
     "output_type": "execute_result"
    },
    {
     "data": {
      "image/png": "[encoded data removed]",
      "text/plain": [
       "<Figure size 1000x500 with 1 Axes>"
      ]
     },
     "metadata": {},
     "output_type": "display_data"
    }
   ],
   "source": [
    "# Visualizing the missing values\n",
    "# Checking Null Value by plotting Heatmap\n",
    "plt.figure(figsize=(10,5))\n",
    "sns.heatmap(df.isnull(), cbar=False)"
   ]
  },
  {
   "cell_type": "code",
   "execution_count": 18,
   "id": "d6376c09-d7ca-4994-8116-132a4196e30e",
   "metadata": {},
   "outputs": [
    {
     "data": {
      "text/plain": [
       "show_id            0\n",
       "type               0\n",
       "title              0\n",
       "director        2389\n",
       "cast             718\n",
       "country          507\n",
       "date_added        10\n",
       "release_year       0\n",
       "rating             7\n",
       "duration           0\n",
       "listed_in          0\n",
       "description        0\n",
       "dtype: int64"
      ]
     },
     "execution_count": 18,
     "metadata": {},
     "output_type": "execute_result"
    }
   ],
   "source": [
    "# checking for missing values in the dataset\n",
    "df.isnull().sum()"
   ]
  },
  {
   "cell_type": "markdown",
   "id": "cfbda5a5-0838-4ce1-871e-6f8a8219f583",
   "metadata": {},
   "source": [
    "There are many missing values in director, cast, country, date_added, and rating columns."
   ]
  },
  {
   "cell_type": "markdown",
   "id": "fa2a0d6b-0eb4-4a1e-ab60-a066e2fe0472",
   "metadata": {},
   "source": [
    "- The missing values in the director, cast, and country attributes can be replaced with 'Unknown'"
   ]
  },
  {
   "cell_type": "code",
   "execution_count": 21,
   "id": "ac00f418-d8e8-4d09-aa81-e6ec4debbf14",
   "metadata": {},
   "outputs": [],
   "source": [
    "df[['director', 'cast', 'country']] = df[['director', 'cast', 'country']].fillna('unknown')"
   ]
  },
  {
   "cell_type": "markdown",
   "id": "db8640d3-a3fe-4b9b-8417-52ceab6294da",
   "metadata": {},
   "source": [
    "- The missing values in rating can be imputed with its mode, since this attribute is discrete."
   ]
  },
  {
   "cell_type": "code",
   "execution_count": 23,
   "id": "05b568eb-042b-4f89-964b-61665e484790",
   "metadata": {},
   "outputs": [
    {
     "data": {
      "text/plain": [
       "0    TV-MA\n",
       "Name: rating, dtype: object"
      ]
     },
     "execution_count": 23,
     "metadata": {},
     "output_type": "execute_result"
    }
   ],
   "source": [
    "df['rating'].mode()"
   ]
  },
  {
   "cell_type": "code",
   "execution_count": 24,
   "id": "a2bcf1f4-5dff-4dc7-84ae-c5bb4c53a97d",
   "metadata": {},
   "outputs": [],
   "source": [
    "df[['rating']] = df[['rating']].fillna(df['rating'].mode())"
   ]
  },
  {
   "cell_type": "markdown",
   "id": "4ed73522-a398-4de8-942e-7555a099d5ed",
   "metadata": {},
   "source": [
    "- records with missing values in the date_added column can be dropped, since they are significantly low (10)"
   ]
  },
  {
   "cell_type": "code",
   "execution_count": 26,
   "id": "bdb4f505-1624-4023-bf2e-c026b1793d20",
   "metadata": {},
   "outputs": [],
   "source": [
    "df.dropna(axis = 0, inplace = True)"
   ]
  },
  {
   "cell_type": "code",
   "execution_count": 27,
   "id": "3e9aebb1-6c3f-484e-b87c-018765d890b4",
   "metadata": {},
   "outputs": [
    {
     "data": {
      "text/plain": [
       "(7770, 12)"
      ]
     },
     "execution_count": 27,
     "metadata": {},
     "output_type": "execute_result"
    }
   ],
   "source": [
    "df.shape"
   ]
  },
  {
   "cell_type": "code",
   "execution_count": 28,
   "id": "33172bdc-0aa1-45c3-8ac3-c0b43952237e",
   "metadata": {},
   "outputs": [
    {
     "data": {
      "text/plain": [
       "show_id         0\n",
       "type            0\n",
       "title           0\n",
       "director        0\n",
       "cast            0\n",
       "country         0\n",
       "date_added      0\n",
       "release_year    0\n",
       "rating          0\n",
       "duration        0\n",
       "listed_in       0\n",
       "description     0\n",
       "dtype: int64"
      ]
     },
     "execution_count": 28,
     "metadata": {},
     "output_type": "execute_result"
    }
   ],
   "source": [
    "df.isnull().sum()"
   ]
  },
  {
   "cell_type": "markdown",
   "id": "4bdab4fc-976b-455f-990a-2c17210ecdd2",
   "metadata": {},
   "source": [
    "There are no missing values any more"
   ]
  },
  {
   "cell_type": "markdown",
   "id": "d3707071-6464-4640-94d5-044e5a51ebaa",
   "metadata": {},
   "source": [
    "### Changing datatype"
   ]
  },
  {
   "cell_type": "code",
   "execution_count": 31,
   "id": "bc988596-64d0-4e9a-8976-6ae267e52bbd",
   "metadata": {},
   "outputs": [
    {
     "name": "stdout",
     "output_type": "stream",
     "text": [
      "<class 'pandas.core.frame.DataFrame'>\n",
      "Index: 7770 entries, 0 to 7786\n",
      "Data columns (total 12 columns):\n",
      " #   Column        Non-Null Count  Dtype \n",
      "---  ------        --------------  ----- \n",
      " 0   show_id       7770 non-null   object\n",
      " 1   type          7770 non-null   object\n",
      " 2   title         7770 non-null   object\n",
      " 3   director      7770 non-null   object\n",
      " 4   cast          7770 non-null   object\n",
      " 5   country       7770 non-null   object\n",
      " 6   date_added    7770 non-null   object\n",
      " 7   release_year  7770 non-null   int64 \n",
      " 8   rating        7770 non-null   object\n",
      " 9   duration      7770 non-null   object\n",
      " 10  listed_in     7770 non-null   object\n",
      " 11  description   7770 non-null   object\n",
      "dtypes: int64(1), object(11)\n",
      "memory usage: 789.1+ KB\n"
     ]
    }
   ],
   "source": [
    "df.info()"
   ]
  },
  {
   "cell_type": "markdown",
   "id": "c0c4c520-c853-4df7-b15e-287866667c98",
   "metadata": {},
   "source": [
    "#### Typecasting 'duration' from string to integer"
   ]
  },
  {
   "cell_type": "code",
   "execution_count": 33,
   "id": "27d1065f-99e9-423b-94c5-53c19a18b9e8",
   "metadata": {},
   "outputs": [],
   "source": [
    "# Splitting the duration column, and changing the datatype to integer\n",
    "df['duration'] = df['duration'].apply(lambda x: int(x.split()[0]))"
   ]
  },
  {
   "cell_type": "markdown",
   "id": "1e4fa63e-376f-4047-93a6-3a0ff53cc0e4",
   "metadata": {},
   "source": [
    "For Tv shows, the duration represents **`'number of seasons'`**"
   ]
  },
  {
   "cell_type": "code",
   "execution_count": 35,
   "id": "b42bd73c-aec8-4d13-aca7-ecbcad9dd7d8",
   "metadata": {},
   "outputs": [
    {
     "data": {
      "text/plain": [
       "duration\n",
       "1     1606\n",
       "2      378\n",
       "3      183\n",
       "4       86\n",
       "5       57\n",
       "6       30\n",
       "7       19\n",
       "8       18\n",
       "9        8\n",
       "10       5\n",
       "11       2\n",
       "12       2\n",
       "15       2\n",
       "13       1\n",
       "16       1\n",
       "Name: count, dtype: int64"
      ]
     },
     "execution_count": 35,
     "metadata": {},
     "output_type": "execute_result"
    }
   ],
   "source": [
    "df[df['type']=='TV Show'].duration.value_counts()"
   ]
  },
  {
   "cell_type": "markdown",
   "id": "50373275-069d-48e4-a1bb-730c7d256430",
   "metadata": {},
   "source": [
    "For movies, the duration represents **`'movie length in minutes'`**"
   ]
  },
  {
   "cell_type": "code",
   "execution_count": 37,
   "id": "c82b17b2-f511-4d89-aef1-f7549ac7b9d3",
   "metadata": {},
   "outputs": [
    {
     "data": {
      "text/plain": [
       "duration\n",
       "90     136\n",
       "93     131\n",
       "94     125\n",
       "91     125\n",
       "95     119\n",
       "      ... \n",
       "182      1\n",
       "224      1\n",
       "37       1\n",
       "233      1\n",
       "191      1\n",
       "Name: count, Length: 201, dtype: int64"
      ]
     },
     "execution_count": 37,
     "metadata": {},
     "output_type": "execute_result"
    }
   ],
   "source": [
    "df[df['type']=='Movie'].duration.value_counts()"
   ]
  },
  {
   "cell_type": "code",
   "execution_count": 38,
   "id": "de6023c0-7e20-465a-b4ee-6b0f018e72bf",
   "metadata": {},
   "outputs": [
    {
     "data": {
      "text/plain": [
       "dtype('int64')"
      ]
     },
     "execution_count": 38,
     "metadata": {},
     "output_type": "execute_result"
    }
   ],
   "source": [
    "# datatype of duration\n",
    "df.duration.dtype"
   ]
  },
  {
   "cell_type": "markdown",
   "id": "36391736-dab1-46c2-bade-7059912a2507",
   "metadata": {},
   "source": [
    "#### Typecasting 'date_added' from string to datetime:"
   ]
  },
  {
   "cell_type": "code",
   "execution_count": 40,
   "id": "09d9152b-78c9-4229-9bfa-a729ac99009b",
   "metadata": {},
   "outputs": [],
   "source": [
    "df['date_added'] = pd.to_datetime(df['date_added'].str.strip())"
   ]
  },
  {
   "cell_type": "code",
   "execution_count": 41,
   "id": "35bfb11a-a060-42e7-b9c9-fc8cd02947ed",
   "metadata": {},
   "outputs": [
    {
     "data": {
      "text/plain": [
       "dtype('<M8[ns]')"
      ]
     },
     "execution_count": 41,
     "metadata": {},
     "output_type": "execute_result"
    }
   ],
   "source": [
    "df.date_added.dtype"
   ]
  },
  {
   "cell_type": "code",
   "execution_count": 42,
   "id": "934b6675-bda5-47f5-a8bb-78da683fee3c",
   "metadata": {},
   "outputs": [],
   "source": [
    "# Adding new attributes month and year of date added\n",
    "\n",
    "df['month_added'] = df['date_added'].dt.month\n",
    "df['year_added'] = df['date_added'].dt.year"
   ]
  },
  {
   "cell_type": "code",
   "execution_count": 43,
   "id": "0a3b6c01-032d-4317-9475-1020a4206a0f",
   "metadata": {},
   "outputs": [
    {
     "name": "stdout",
     "output_type": "stream",
     "text": [
      "<class 'pandas.core.frame.DataFrame'>\n",
      "Index: 7770 entries, 0 to 7786\n",
      "Data columns (total 14 columns):\n",
      " #   Column        Non-Null Count  Dtype         \n",
      "---  ------        --------------  -----         \n",
      " 0   show_id       7770 non-null   object        \n",
      " 1   type          7770 non-null   object        \n",
      " 2   title         7770 non-null   object        \n",
      " 3   director      7770 non-null   object        \n",
      " 4   cast          7770 non-null   object        \n",
      " 5   country       7770 non-null   object        \n",
      " 6   date_added    7770 non-null   datetime64[ns]\n",
      " 7   release_year  7770 non-null   int64         \n",
      " 8   rating        7770 non-null   object        \n",
      " 9   duration      7770 non-null   int64         \n",
      " 10  listed_in     7770 non-null   object        \n",
      " 11  description   7770 non-null   object        \n",
      " 12  month_added   7770 non-null   int32         \n",
      " 13  year_added    7770 non-null   int32         \n",
      "dtypes: datetime64[ns](1), int32(2), int64(2), object(9)\n",
      "memory usage: 849.8+ KB\n"
     ]
    }
   ],
   "source": [
    "df.info()"
   ]
  },
  {
   "cell_type": "markdown",
   "id": "b6b92733-09d5-4302-b0a4-74918faf7ba6",
   "metadata": {},
   "source": [
    "### Removing Leading and Trailing spaces"
   ]
  },
  {
   "cell_type": "code",
   "execution_count": 45,
   "id": "70165207-2d01-4414-bed6-9e721f200bb7",
   "metadata": {},
   "outputs": [],
   "source": [
    "df = df.apply(lambda x: x.str.strip() if x.dtype == \"object\" else x)"
   ]
  },
  {
   "cell_type": "markdown",
   "id": "6b77a0df-e999-4041-889e-a4df9dd5343e",
   "metadata": {},
   "source": [
    "### Standardizing column names to lowercase and snake_case"
   ]
  },
  {
   "cell_type": "code",
   "execution_count": 47,
   "id": "988ecd2b-6499-43ea-9f0b-3fc7a55c73b4",
   "metadata": {},
   "outputs": [],
   "source": [
    "df.columns = df.columns.str.lower().str.replace(' ', '_')"
   ]
  },
  {
   "cell_type": "code",
   "execution_count": 48,
   "id": "8394ddb0-0928-442e-8fcc-b982cd695dca",
   "metadata": {},
   "outputs": [
    {
     "data": {
      "text/html": [
       "<div>\n",
       "<style scoped>\n",
       "    .dataframe tbody tr th:only-of-type {\n",
       "        vertical-align: middle;\n",
       "    }\n",
       "\n",
       "    .dataframe tbody tr th {\n",
       "        vertical-align: top;\n",
       "    }\n",
       "\n",
       "    .dataframe thead th {\n",
       "        text-align: right;\n",
       "    }\n",
       "</style>\n",
       "<table border=\"1\" class=\"dataframe\">\n",
       "  <thead>\n",
       "    <tr style=\"text-align: right;\">\n",
       "      <th></th>\n",
       "      <th>show_id</th>\n",
       "      <th>type</th>\n",
       "      <th>title</th>\n",
       "      <th>director</th>\n",
       "      <th>cast</th>\n",
       "      <th>country</th>\n",
       "      <th>date_added</th>\n",
       "      <th>release_year</th>\n",
       "      <th>rating</th>\n",
       "      <th>duration</th>\n",
       "      <th>listed_in</th>\n",
       "      <th>description</th>\n",
       "      <th>month_added</th>\n",
       "      <th>year_added</th>\n",
       "    </tr>\n",
       "  </thead>\n",
       "  <tbody>\n",
       "    <tr>\n",
       "      <th>0</th>\n",
       "      <td>s1</td>\n",
       "      <td>TV Show</td>\n",
       "      <td>3%</td>\n",
       "      <td>unknown</td>\n",
       "      <td>João Miguel, Bianca Comparato, Michel Gomes, R...</td>\n",
       "      <td>Brazil</td>\n",
       "      <td>2020-08-14</td>\n",
       "      <td>2020</td>\n",
       "      <td>TV-MA</td>\n",
       "      <td>4</td>\n",
       "      <td>International TV Shows, TV Dramas, TV Sci-Fi &amp;...</td>\n",
       "      <td>In a future where the elite inhabit an island ...</td>\n",
       "      <td>8</td>\n",
       "      <td>2020</td>\n",
       "    </tr>\n",
       "    <tr>\n",
       "      <th>1</th>\n",
       "      <td>s2</td>\n",
       "      <td>Movie</td>\n",
       "      <td>7:19</td>\n",
       "      <td>Jorge Michel Grau</td>\n",
       "      <td>Demián Bichir, Héctor Bonilla, Oscar Serrano, ...</td>\n",
       "      <td>Mexico</td>\n",
       "      <td>2016-12-23</td>\n",
       "      <td>2016</td>\n",
       "      <td>TV-MA</td>\n",
       "      <td>93</td>\n",
       "      <td>Dramas, International Movies</td>\n",
       "      <td>After a devastating earthquake hits Mexico Cit...</td>\n",
       "      <td>12</td>\n",
       "      <td>2016</td>\n",
       "    </tr>\n",
       "    <tr>\n",
       "      <th>2</th>\n",
       "      <td>s3</td>\n",
       "      <td>Movie</td>\n",
       "      <td>23:59</td>\n",
       "      <td>Gilbert Chan</td>\n",
       "      <td>Tedd Chan, Stella Chung, Henley Hii, Lawrence ...</td>\n",
       "      <td>Singapore</td>\n",
       "      <td>2018-12-20</td>\n",
       "      <td>2011</td>\n",
       "      <td>R</td>\n",
       "      <td>78</td>\n",
       "      <td>Horror Movies, International Movies</td>\n",
       "      <td>When an army recruit is found dead, his fellow...</td>\n",
       "      <td>12</td>\n",
       "      <td>2018</td>\n",
       "    </tr>\n",
       "    <tr>\n",
       "      <th>3</th>\n",
       "      <td>s4</td>\n",
       "      <td>Movie</td>\n",
       "      <td>9</td>\n",
       "      <td>Shane Acker</td>\n",
       "      <td>Elijah Wood, John C. Reilly, Jennifer Connelly...</td>\n",
       "      <td>United States</td>\n",
       "      <td>2017-11-16</td>\n",
       "      <td>2009</td>\n",
       "      <td>PG-13</td>\n",
       "      <td>80</td>\n",
       "      <td>Action &amp; Adventure, Independent Movies, Sci-Fi...</td>\n",
       "      <td>In a postapocalyptic world, rag-doll robots hi...</td>\n",
       "      <td>11</td>\n",
       "      <td>2017</td>\n",
       "    </tr>\n",
       "    <tr>\n",
       "      <th>4</th>\n",
       "      <td>s5</td>\n",
       "      <td>Movie</td>\n",
       "      <td>21</td>\n",
       "      <td>Robert Luketic</td>\n",
       "      <td>Jim Sturgess, Kevin Spacey, Kate Bosworth, Aar...</td>\n",
       "      <td>United States</td>\n",
       "      <td>2020-01-01</td>\n",
       "      <td>2008</td>\n",
       "      <td>PG-13</td>\n",
       "      <td>123</td>\n",
       "      <td>Dramas</td>\n",
       "      <td>A brilliant group of students become card-coun...</td>\n",
       "      <td>1</td>\n",
       "      <td>2020</td>\n",
       "    </tr>\n",
       "  </tbody>\n",
       "</table>\n",
       "</div>"
      ],
      "text/plain": [
       "  show_id     type  title           director  \\\n",
       "0      s1  TV Show     3%            unknown   \n",
       "1      s2    Movie   7:19  Jorge Michel Grau   \n",
       "2      s3    Movie  23:59       Gilbert Chan   \n",
       "3      s4    Movie      9        Shane Acker   \n",
       "4      s5    Movie     21     Robert Luketic   \n",
       "\n",
       "                                                cast        country  \\\n",
       "0  João Miguel, Bianca Comparato, Michel Gomes, R...         Brazil   \n",
       "1  Demián Bichir, Héctor Bonilla, Oscar Serrano, ...         Mexico   \n",
       "2  Tedd Chan, Stella Chung, Henley Hii, Lawrence ...      Singapore   \n",
       "3  Elijah Wood, John C. Reilly, Jennifer Connelly...  United States   \n",
       "4  Jim Sturgess, Kevin Spacey, Kate Bosworth, Aar...  United States   \n",
       "\n",
       "  date_added  release_year rating  duration  \\\n",
       "0 2020-08-14          2020  TV-MA         4   \n",
       "1 2016-12-23          2016  TV-MA        93   \n",
       "2 2018-12-20          2011      R        78   \n",
       "3 2017-11-16          2009  PG-13        80   \n",
       "4 2020-01-01          2008  PG-13       123   \n",
       "\n",
       "                                           listed_in  \\\n",
       "0  International TV Shows, TV Dramas, TV Sci-Fi &...   \n",
       "1                       Dramas, International Movies   \n",
       "2                Horror Movies, International Movies   \n",
       "3  Action & Adventure, Independent Movies, Sci-Fi...   \n",
       "4                                             Dramas   \n",
       "\n",
       "                                         description  month_added  year_added  \n",
       "0  In a future where the elite inhabit an island ...            8        2020  \n",
       "1  After a devastating earthquake hits Mexico Cit...           12        2016  \n",
       "2  When an army recruit is found dead, his fellow...           12        2018  \n",
       "3  In a postapocalyptic world, rag-doll robots hi...           11        2017  \n",
       "4  A brilliant group of students become card-coun...            1        2020  "
      ]
     },
     "execution_count": 48,
     "metadata": {},
     "output_type": "execute_result"
    }
   ],
   "source": [
    "df.head()"
   ]
  },
  {
   "cell_type": "markdown",
   "id": "5c9c1f9a-e12a-44af-99fa-89d8962c2c33",
   "metadata": {},
   "source": [
    "### Saving the cleaned data"
   ]
  },
  {
   "cell_type": "code",
   "execution_count": 50,
   "id": "1ba7d6f2-cb51-4964-a9b7-099d497963b7",
   "metadata": {},
   "outputs": [],
   "source": [
    "df.to_csv('netflix_cleaned.csv', index=False)"
   ]
  }
 ],
 "metadata": {
  "kernelspec": {
   "display_name": "Python [conda env:base] *",
   "language": "python",
   "name": "conda-base-py"
  },
  "language_info": {
   "codemirror_mode": {
    "name": "ipython",
    "version": 3
   },
   "file_extension": ".py",
   "mimetype": "text/x-python",
   "name": "python",
   "nbconvert_exporter": "python",
   "pygments_lexer": "ipython3",
   "version": "3.12.7"
  }
 },
 "nbformat": 4,
 "nbformat_minor": 5
}
